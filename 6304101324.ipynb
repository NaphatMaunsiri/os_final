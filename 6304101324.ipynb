{
  "nbformat": 4,
  "nbformat_minor": 0,
  "metadata": {
    "colab": {
      "provenance": []
    },
    "kernelspec": {
      "name": "python3",
      "display_name": "Python 3"
    },
    "language_info": {
      "name": "python"
    }
  },
  "cells": [
    {
      "cell_type": "markdown",
      "source": [
        "Code : 6304101324\\\n",
        "Name ณภัทร เหมือนศิริ\\\n",
        "Section : 02\n"
      ],
      "metadata": {
        "id": "h2LimZf3IaYc"
      }
    },
    {
      "cell_type": "code",
      "source": [],
      "metadata": {
        "id": "i3hFq2ejI4ds"
      },
      "execution_count": null,
      "outputs": []
    }
  ]
}